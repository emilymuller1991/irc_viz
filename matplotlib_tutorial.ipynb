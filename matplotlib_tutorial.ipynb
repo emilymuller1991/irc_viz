{
 "cells": [
  {
   "cell_type": "markdown",
   "metadata": {},
   "source": [
    "# Matplotlib tutorial"
   ]
  },
  {
   "cell_type": "markdown",
   "metadata": {},
   "source": [
    "[*John Pinney*](https://github.com/johnpinney) and [*Tony Yang*](https://github.com/tonyyzy)"
   ]
  },
  {
   "cell_type": "markdown",
   "metadata": {},
   "source": [
    "*Part of this notebook's material was adapted from the [Software Carpentry](https://swcarpentry.github.io/python-novice-gapminder/09-plotting/index.html) Python course and [Imperial Chemistry Department's Python courses](https://github.com/imperialchem)*"
   ]
  },
  {
   "cell_type": "markdown",
   "metadata": {},
   "source": [
    "## Introduction\n",
    "\n",
    "In this session, we will introduce you to Matplotlib which is the most commonly used Python plotting package. This also requires a few concepts from the NumPy package.\n"
   ]
  },
  {
   "cell_type": "markdown",
   "metadata": {},
   "source": [
    "Let's see if the `numpy` package is available in your notebook's environment. If you're using the default 'base(root)' environment in Anaconda, it is probably already there. "
   ]
  },
  {
   "cell_type": "code",
   "execution_count": 6,
   "metadata": {},
   "outputs": [],
   "source": [
    "import numpy as np"
   ]
  },
  {
   "cell_type": "markdown",
   "metadata": {},
   "source": [
    "The `as np` instruction means that we will refer to the `numpy` module in our code using the shorthand `np`.\n",
    "\n",
    "If it isn't found (you will get a *ModuleNotFoundError*), use your *package manager* (see below) to install it and try again.\n",
    "\n",
    "\n",
    "**NB** If you have any difficulties loading packages during the session, we recommend that you switch to using the online Binder version of this notebooks - see https://github.com/johnpinney/irc_viz\n",
    "\n"
   ]
  },
  {
   "cell_type": "markdown",
   "metadata": {},
   "source": [
    "### Using a package manager\n",
    "\n",
    "To work with modules that are not part of the core python distribution, we need a framework that will deal with downloading the external code and ensuring that different modules are compatible with each other. \n",
    "\n",
    "With Anaconda, the easiest way to do this is using the Anaconda Navigator GUI. Go to *Environments* and use the search facility to find the packages that you want to install or uninstall. The package manager will attempt to install these from the internet, and you can then import the corresponding modules within your jupyter notebook.\n",
    "\n",
    "The command-line utility `conda` gives access to the same package management system, e.g. the command\n",
    "\n",
    "`\n",
    "conda install numpy\n",
    "`\n",
    "\n",
    "will install numpy in the current environment.\n",
    "\n",
    "Anaconda/conda is highly recommended as the most straightforward way to manage your python environments. If you have a different python install, you will need to use a different package manager to download packages (usually `pip`, e.g. `pip install numpy`). \n",
    "\n"
   ]
  },
  {
   "cell_type": "markdown",
   "metadata": {},
   "source": [
    "---"
   ]
  },
  {
   "cell_type": "markdown",
   "metadata": {},
   "source": [
    "## `numpy`\n",
    "\n",
    "`numpy` provides a set of general data structures and utilities to support numerical computing in python. It is one of the most widely used packages in scientific computing. "
   ]
  },
  {
   "cell_type": "markdown",
   "metadata": {},
   "source": [
    "### Mathematical functions"
   ]
  },
  {
   "cell_type": "markdown",
   "metadata": {},
   "source": [
    "The first thing to note about `numpy` is the huge range of [mathematical functions](https://numpy.org/doc/stable/reference/routines.math.html) it provides. Here are a few examples:"
   ]
  },
  {
   "cell_type": "code",
   "execution_count": 7,
   "metadata": {},
   "outputs": [
    {
     "data": {
      "text/plain": [
       "3.784189633918261"
      ]
     },
     "execution_count": 7,
     "metadata": {},
     "output_type": "execute_result"
    }
   ],
   "source": [
    "np.log(44)"
   ]
  },
  {
   "cell_type": "code",
   "execution_count": 8,
   "metadata": {},
   "outputs": [
    {
     "data": {
      "text/plain": [
       "1.6434526764861874"
      ]
     },
     "execution_count": 8,
     "metadata": {},
     "output_type": "execute_result"
    }
   ],
   "source": [
    "np.log10(44)"
   ]
  },
  {
   "cell_type": "code",
   "execution_count": 9,
   "metadata": {},
   "outputs": [
    {
     "data": {
      "text/plain": [
       "1.0"
      ]
     },
     "execution_count": 9,
     "metadata": {},
     "output_type": "execute_result"
    }
   ],
   "source": [
    "np.sin(np.pi/2)"
   ]
  },
  {
   "cell_type": "code",
   "execution_count": 10,
   "metadata": {},
   "outputs": [
    {
     "data": {
      "text/plain": [
       "0.9051482536448664"
      ]
     },
     "execution_count": 10,
     "metadata": {},
     "output_type": "execute_result"
    }
   ],
   "source": [
    "np.tanh(1.5)"
   ]
  },
  {
   "cell_type": "markdown",
   "metadata": {},
   "source": [
    "### `ndarray`\n",
    "\n",
    "A major feature of `numpy` is the *n-dimensional array* (`ndarray`) data type that it provides. This is similar to a `list`, but has (at least) three advantages for numerical computing:\n",
    "\n",
    "* Every element must be of the same data type (e.g. `float` or `int`).\n",
    "* Operations are much faster and more memory-efficient using `ndarray` than using `list`.\n",
    "* The resulting code is easier to read and write."
   ]
  },
  {
   "cell_type": "code",
   "execution_count": 11,
   "metadata": {},
   "outputs": [
    {
     "name": "stdout",
     "output_type": "stream",
     "text": [
      "[1.0, 1.0, 1.0, 1.0, 1.0, 1.0, 1.0, 1.0, 1.0, 1.0]\n"
     ]
    },
    {
     "data": {
      "text/plain": [
       "list"
      ]
     },
     "execution_count": 11,
     "metadata": {},
     "output_type": "execute_result"
    }
   ],
   "source": [
    "n = 10\n",
    "\n",
    "a = list()\n",
    "for i in range(n):\n",
    "    a.append(1.0)\n",
    "print(a)\n",
    "type(a)"
   ]
  },
  {
   "cell_type": "code",
   "execution_count": 12,
   "metadata": {},
   "outputs": [
    {
     "name": "stdout",
     "output_type": "stream",
     "text": [
      "[1. 1. 1. 1. 1. 1. 1. 1. 1. 1.]\n"
     ]
    },
    {
     "data": {
      "text/plain": [
       "numpy.ndarray"
      ]
     },
     "execution_count": 12,
     "metadata": {},
     "output_type": "execute_result"
    }
   ],
   "source": [
    "b = np.array(a)\n",
    "print(b)\n",
    "type(b)"
   ]
  },
  {
   "cell_type": "markdown",
   "metadata": {},
   "source": [
    "Notice that `np.array()` is a constructor, making a new `ndarray` object using data from the `list` provided. When we refer to \"an array\" in scientific python, we almost always mean an object of type `ndarray`."
   ]
  },
  {
   "cell_type": "markdown",
   "metadata": {},
   "source": [
    "#### Notes"
   ]
  },
  {
   "cell_type": "markdown",
   "metadata": {},
   "source": [
    "The length of an `ndarray` is fixed when it is created."
   ]
  },
  {
   "cell_type": "markdown",
   "metadata": {},
   "source": [
    "You can check the data type of an `ndarray` using the `dtype` attribute, and the number of data using `size`:"
   ]
  },
  {
   "cell_type": "code",
   "execution_count": 13,
   "metadata": {},
   "outputs": [
    {
     "data": {
      "text/plain": [
       "dtype('float64')"
      ]
     },
     "execution_count": 13,
     "metadata": {},
     "output_type": "execute_result"
    }
   ],
   "source": [
    "b.dtype"
   ]
  },
  {
   "cell_type": "code",
   "execution_count": 14,
   "metadata": {},
   "outputs": [
    {
     "data": {
      "text/plain": [
       "10"
      ]
     },
     "execution_count": 14,
     "metadata": {},
     "output_type": "execute_result"
    }
   ],
   "source": [
    "b.size"
   ]
  },
  {
   "cell_type": "markdown",
   "metadata": {},
   "source": [
    "\n",
    "You can find the documentation for the `ndarray` [here](https://numpy.org/doc/stable/reference/generated/numpy.ndarray.html)."
   ]
  },
  {
   "cell_type": "markdown",
   "metadata": {},
   "source": [
    "---"
   ]
  },
  {
   "cell_type": "markdown",
   "metadata": {},
   "source": [
    "## `matplotlib`\n",
    "\n",
    "`matplotlib` is modelled after Matlab's plotting functions and aims to be easy to use and intuitive.  \n",
    "\n",
    "Import `matplotlib` with"
   ]
  },
  {
   "cell_type": "code",
   "execution_count": 17,
   "metadata": {},
   "outputs": [],
   "source": [
    "import matplotlib.pyplot as plt"
   ]
  },
  {
   "cell_type": "markdown",
   "metadata": {},
   "source": [
    "Firstly, we need to create some sample data. Let's plot the sine function from -10 to 10. "
   ]
  },
  {
   "cell_type": "code",
   "execution_count": 28,
   "metadata": {},
   "outputs": [
    {
     "name": "stdout",
     "output_type": "stream",
     "text": [
      "[-10.   -9.8  -9.6  -9.4  -9.2  -9.   -8.8  -8.6  -8.4  -8.2  -8.   -7.8\n",
      "  -7.6  -7.4  -7.2  -7.   -6.8  -6.6  -6.4  -6.2  -6.   -5.8  -5.6  -5.4\n",
      "  -5.2  -5.   -4.8  -4.6  -4.4  -4.2  -4.   -3.8  -3.6  -3.4  -3.2  -3.\n",
      "  -2.8  -2.6  -2.4  -2.2  -2.   -1.8  -1.6  -1.4  -1.2  -1.   -0.8  -0.6\n",
      "  -0.4  -0.2   0.    0.2   0.4   0.6   0.8   1.    1.2   1.4   1.6   1.8\n",
      "   2.    2.2   2.4   2.6   2.8   3.    3.2   3.4   3.6   3.8   4.    4.2\n",
      "   4.4   4.6   4.8   5.    5.2   5.4   5.6   5.8   6.    6.2   6.4   6.6\n",
      "   6.8   7.    7.2   7.4   7.6   7.8   8.    8.2   8.4   8.6   8.8   9.\n",
      "   9.2   9.4   9.6   9.8  10. ]\n"
     ]
    }
   ],
   "source": [
    "# makes a 1D array of 101 equally spaced values from -10 to 10.\n",
    "x = np.linspace(-10, 10, 101)\n",
    "print(x)"
   ]
  },
  {
   "cell_type": "code",
   "execution_count": 29,
   "metadata": {},
   "outputs": [
    {
     "name": "stdout",
     "output_type": "stream",
     "text": [
      "[ 0.54402111  0.36647913  0.17432678 -0.02477543 -0.22288991 -0.41211849\n",
      " -0.58491719 -0.7343971  -0.85459891 -0.94073056 -0.98935825 -0.99854335\n",
      " -0.96791967 -0.8987081  -0.79366786 -0.6569866  -0.49411335 -0.31154136\n",
      " -0.1165492   0.0830894   0.2794155   0.46460218  0.63126664  0.77276449\n",
      "  0.88345466  0.95892427  0.99616461  0.993691    0.95160207  0.87157577\n",
      "  0.7568025   0.61185789  0.44252044  0.2555411   0.05837414 -0.14112001\n",
      " -0.33498815 -0.51550137 -0.67546318 -0.8084964  -0.90929743 -0.97384763\n",
      " -0.9995736  -0.98544973 -0.93203909 -0.84147098 -0.71735609 -0.56464247\n",
      " -0.38941834 -0.19866933  0.          0.19866933  0.38941834  0.56464247\n",
      "  0.71735609  0.84147098  0.93203909  0.98544973  0.9995736   0.97384763\n",
      "  0.90929743  0.8084964   0.67546318  0.51550137  0.33498815  0.14112001\n",
      " -0.05837414 -0.2555411  -0.44252044 -0.61185789 -0.7568025  -0.87157577\n",
      " -0.95160207 -0.993691   -0.99616461 -0.95892427 -0.88345466 -0.77276449\n",
      " -0.63126664 -0.46460218 -0.2794155  -0.0830894   0.1165492   0.31154136\n",
      "  0.49411335  0.6569866   0.79366786  0.8987081   0.96791967  0.99854335\n",
      "  0.98935825  0.94073056  0.85459891  0.7343971   0.58491719  0.41211849\n",
      "  0.22288991  0.02477543 -0.17432678 -0.36647913 -0.54402111]\n"
     ]
    }
   ],
   "source": [
    "# here you can see the benefits of a numpy array\n",
    "# we can apply a numpy function to the whole array at once\n",
    "# rather than looping over all elements of a list!\n",
    "sine_x = np.sin(x) \n",
    "print(sine_x)"
   ]
  },
  {
   "cell_type": "markdown",
   "metadata": {},
   "source": [
    "And here's our first plot!"
   ]
  },
  {
   "cell_type": "code",
   "execution_count": 30,
   "metadata": {},
   "outputs": [
    {
     "data": {
      "image/png": "[encoded data removed]",
      "text/plain": [
       "<Figure size 432x288 with 1 Axes>"
      ]
     },
     "metadata": {
      "needs_background": "light"
     },
     "output_type": "display_data"
    }
   ],
   "source": [
    "plt.plot(x, sine_x)\n",
    "\n",
    "# Sometimes you may find that without plt.show()\n",
    "# the figure is still displayed. This is Jupyter notebook\n",
    "# trying to be helpful. Do note that in other environments\n",
    "# you will almost definitely need this line.\n",
    "plt.show() "
   ]
  },
  {
   "cell_type": "markdown",
   "metadata": {},
   "source": [
    "Note that although we only used two lines to plot the graph matplotlib has set many defaults for us behind the scenes\n",
    ". Let go over some of the settings so we know how to customise our graphs when we want to."
   ]
  },
  {
   "cell_type": "code",
   "execution_count": 31,
   "metadata": {},
   "outputs": [
    {
     "data": {
      "image/png": "[encoded data removed]",
      "text/plain": [
       "<Figure size 432x288 with 1 Axes>"
      ]
     },
     "metadata": {
      "needs_background": "light"
     },
     "output_type": "display_data"
    }
   ],
   "source": [
    "# Create a new figure of size 6 by 4 inches (width and height)\n",
    "plt.figure(figsize=(6, 4))\n",
    "\n",
    "# Plot x and y using color blue from the Tableau palette\n",
    "# with a continuous line of width 1.5 points without any markers\n",
    "plt.plot(x, sine_x, color=\"tab:blue\", linewidth=1.5, linestyle=\"-\", marker=\"\")\n",
    "\n",
    "# Set x limits to be slightly bigger than the data range\n",
    "plt.xlim(-11, 11)\n",
    "\n",
    "# Set x ticks to be nine ticks evenly spaced between -10 and 10\n",
    "plt.xticks(np.linspace(-10, 10, 9))\n",
    "\n",
    "# Set y limits\n",
    "plt.ylim(-1.1, 1.1)\n",
    "\n",
    "# Set y ticks\n",
    "plt.yticks(np.linspace(-1, 1, 9))\n",
    "\n",
    "# Show the plot on screen\n",
    "plt.show()"
   ]
  },
  {
   "cell_type": "markdown",
   "metadata": {},
   "source": [
    "### More choices of colors, linestyles, and markers\n",
    "List of colors: https://matplotlib.org/3.1.0/gallery/color/named_colors.html  \n",
    "List of linestyles: https://matplotlib.org/gallery/lines_bars_and_markers/line_styles_reference.html  \n",
    "List of markers: https://matplotlib.org/api/markers_api.html"
   ]
  },
  {
   "cell_type": "markdown",
   "metadata": {},
   "source": [
    "## Completing a plot\n",
    "It's always a good idea to label your graphs! Here we can add a title, x/y axis labels, and a legend."
   ]
  },
  {
   "cell_type": "code",
   "execution_count": 32,
   "metadata": {},
   "outputs": [
    {
     "data": {
      "image/png": "[encoded data removed]",
      "text/plain": [
       "<Figure size 460.8x345.6 with 1 Axes>"
      ]
     },
     "metadata": {
      "needs_background": "light"
     },
     "output_type": "display_data"
    }
   ],
   "source": [
    "plt.figure(figsize=(6.4, 4.8))\n",
    "plt.plot(x, sine_x, label=\"y=sin(x)\")\n",
    "plt.title(\"An example sine plot\") # add title to the plot\n",
    "plt.xlabel(\"x\") # label the axes\n",
    "plt.ylabel(\"y\")\n",
    "plt.legend() # show legend\n",
    "plt.show()"
   ]
  },
  {
   "cell_type": "markdown",
   "metadata": {},
   "source": [
    "We can also plot multiple lines on the same graph."
   ]
  },
  {
   "cell_type": "code",
   "execution_count": 33,
   "metadata": {},
   "outputs": [
    {
     "data": {
      "image/png": "[encoded data removed]",
      "text/plain": [
       "<Figure size 432x288 with 1 Axes>"
      ]
     },
     "metadata": {
      "needs_background": "light"
     },
     "output_type": "display_data"
    }
   ],
   "source": [
    "plt.plot(x, sine_x, label=\"y=sin(x)\")\n",
    "plt.plot(x, x, label=\"y=x\")\n",
    "plt.show()"
   ]
  },
  {
   "cell_type": "markdown",
   "metadata": {},
   "source": [
    "### Exercise 1\n",
    "- plot both sine and cosine functions on the same graph\n",
    "- Use `tab:purple` as color, `--` as linestyle, `*` as marker for cosine\n",
    "- Take your pick of options for sine\n",
    "- Make sure to give your plot a title, axis labels, and legends"
   ]
  },
  {
   "cell_type": "code",
   "execution_count": null,
   "metadata": {},
   "outputs": [],
   "source": []
  },
  {
   "cell_type": "markdown",
   "metadata": {},
   "source": [
    "## More types of plots\n",
    "\n",
    "We have covered a *line plot* so far. Now let's dive into scatter and bar plots, and the histogram."
   ]
  },
  {
   "cell_type": "markdown",
   "metadata": {},
   "source": [
    "If we only want to plot the datapoints without the contineous lines we can use a *scatter plot*."
   ]
  },
  {
   "cell_type": "code",
   "execution_count": 39,
   "metadata": {},
   "outputs": [
    {
     "data": {
      "image/png": "[encoded data removed]",
      "text/plain": [
       "<Figure size 432x288 with 1 Axes>"
      ]
     },
     "metadata": {
      "needs_background": "light"
     },
     "output_type": "display_data"
    }
   ],
   "source": [
    "plt.scatter(x, sine_y, marker=\"+\")\n",
    "plt.show()"
   ]
  },
  {
   "cell_type": "markdown",
   "metadata": {},
   "source": [
    "A bar plot is useful when displaying categorical data."
   ]
  },
  {
   "cell_type": "code",
   "execution_count": 40,
   "metadata": {},
   "outputs": [
    {
     "data": {
      "image/png": "[encoded data removed]",
      "text/plain": [
       "<Figure size 432x288 with 1 Axes>"
      ]
     },
     "metadata": {
      "needs_background": "light"
     },
     "output_type": "display_data"
    }
   ],
   "source": [
    "bar_x = [\"A\", \"B\", \"C\", \"D\", \"E\"]\n",
    "bar_y = np.array([32, 49, 11, 20, 44])\n",
    "plt.bar(bar_x, bar_y)\n",
    "plt.show()"
   ]
  },
  {
   "cell_type": "markdown",
   "metadata": {},
   "source": [
    "Finally we can use histograms to show distributions or a range of measurements. \n",
    "\n",
    "Pay attention to how the number of bins for histogram is determined. A too small or too large number of bins may hide or amplify some features of the data."
   ]
  },
  {
   "cell_type": "code",
   "execution_count": 45,
   "metadata": {},
   "outputs": [
    {
     "name": "stdout",
     "output_type": "stream",
     "text": [
      "[ 0.64453439 -0.72793045  1.04039519  1.86009145  0.20811363  1.63399238\n",
      "  0.33346477 -0.76391872  1.19929963 -0.66372642  1.15616399 -1.91781648\n",
      " -0.48344258 -1.33676858 -0.65729995 -0.0875412  -1.39006903 -0.338817\n",
      " -0.43976421  0.95611424  0.95144897  0.20190787 -0.24720832  2.0256401\n",
      "  1.60342322  0.85653158  0.31354976  2.42305643 -0.07032856  0.08051624\n",
      "  1.19701287  0.46752213 -1.51644461 -0.45653089  1.499692   -0.29906839\n",
      " -0.63719345  0.36260281 -1.01819203  0.60731881 -1.130643    0.05494772\n",
      "  2.38135577 -0.18298566  2.58396862  0.95419826 -0.3256893  -0.80702882\n",
      " -0.17586586 -0.43875469  0.44521653 -0.1437304  -0.78108804 -0.57118974\n",
      "  1.12439198 -0.49407273  2.07952579 -1.25468605  0.36903758  1.10110761\n",
      "  2.00437749 -0.59903895  0.93856457 -0.92423849  2.88962813  0.49786546\n",
      " -1.77470691 -0.50201064 -2.42131347 -2.13242624  1.23174619 -0.52101486\n",
      "  1.11124049  0.2069011   0.1911586  -0.09261438  1.22338241  1.4796602\n",
      "  0.86969117  0.63961103 -2.08459713  0.26126388 -0.39174294  1.47554809\n",
      " -1.09476572  0.4386334   0.44376282  1.464759   -1.05818664  1.43759009\n",
      "  0.70110612 -0.40528978  0.1901562  -0.30325386 -1.12380004 -0.55925702\n",
      "  1.27000497  0.73470841 -1.38729228 -1.95016438]\n"
     ]
    },
    {
     "data": {
      "image/png": "[encoded data removed]",
      "text/plain": [
       "<Figure size 432x288 with 1 Axes>"
      ]
     },
     "metadata": {
      "needs_background": "light"
     },
     "output_type": "display_data"
    }
   ],
   "source": [
    "# generate 100 random numbers from the standard normal distribution\n",
    "rand_n = np.random.randn(100) \n",
    "print(rand_n)\n",
    "\n",
    "# we can change bins to change how the histogram looks\n",
    "plt.hist(rand_n, bins=20) \n",
    "plt.show()"
   ]
  },
  {
   "cell_type": "markdown",
   "metadata": {},
   "source": [
    "---"
   ]
  },
  {
   "cell_type": "markdown",
   "metadata": {},
   "source": [
    "## Working with tabular data\n",
    "\n",
    "Often our data lives in tables - in spreadsheets or in [CSV files](https://en.wikipedia.org/wiki/Comma-separated_values).\n",
    "\n",
    "We like to arrange tabular data so that each *variable* has its own column, which is given a name in a *header row*:\n",
    "\n"
   ]
  },
  {
   "cell_type": "markdown",
   "metadata": {},
   "source": [
    "|City|Latitude|Longitude|Country|Population|Density|\n",
    "|---|---|---|---|---|---|\n",
    "|Tokyo|35.6897|139.6922|Japan|37977000|4381.5|\n",
    "|New York|40.6943|-73.9249|United States|18713220|10934|\n",
    "|Mexico City|19.4333|-99.1333|Mexico|20996000|14584.7|\n",
    "|Mumbai|18.9667|72.8333|India|23355000|41890.7|\n",
    "|São Paulo|-23.5504|-46.6339|Brazil|22046000|20285.3|\n",
    "\n",
    "\n",
    "\n"
   ]
  },
  {
   "cell_type": "markdown",
   "metadata": {},
   "source": [
    "In this example, the variables do not all have the same datatype. This makes it difficult to use directly as an `ndarray`. \n",
    "\n",
    "However, we can use the [pandas](https://pandas.pydata.org) package to work with tabular data in a more convenient way.\n",
    "\n"
   ]
  },
  {
   "cell_type": "markdown",
   "metadata": {},
   "source": [
    "## `pandas`\n",
    "\n",
    "\n",
    "Import `pandas` with"
   ]
  },
  {
   "cell_type": "code",
   "execution_count": 50,
   "metadata": {},
   "outputs": [],
   "source": [
    "import pandas as pd"
   ]
  },
  {
   "cell_type": "markdown",
   "metadata": {},
   "source": [
    "\n",
    "## DataFrames"
   ]
  },
  {
   "cell_type": "markdown",
   "metadata": {},
   "source": [
    "Pandas is built around a fundamental data object called a [DataFrame](https://pandas.pydata.org/pandas-docs/stable/reference/frame.html).\n",
    "\n",
    "Here's how you can load data from a CSV file into a DataFrame:"
   ]
  },
  {
   "cell_type": "code",
   "execution_count": 51,
   "metadata": {},
   "outputs": [
    {
     "data": {
      "text/html": [
       "<div>\n",
       "<style scoped>\n",
       "    .dataframe tbody tr th:only-of-type {\n",
       "        vertical-align: middle;\n",
       "    }\n",
       "\n",
       "    .dataframe tbody tr th {\n",
       "        vertical-align: top;\n",
       "    }\n",
       "\n",
       "    .dataframe thead th {\n",
       "        text-align: right;\n",
       "    }\n",
       "</style>\n",
       "<table border=\"1\" class=\"dataframe\">\n",
       "  <thead>\n",
       "    <tr style=\"text-align: right;\">\n",
       "      <th></th>\n",
       "      <th>molregno</th>\n",
       "      <th>mw_freebase</th>\n",
       "      <th>alogp</th>\n",
       "      <th>hba</th>\n",
       "      <th>hbd</th>\n",
       "      <th>psa</th>\n",
       "      <th>rtb</th>\n",
       "      <th>ro3_pass</th>\n",
       "      <th>num_ro5_violations</th>\n",
       "      <th>cx_most_apka</th>\n",
       "      <th>...</th>\n",
       "      <th>molecular_species</th>\n",
       "      <th>full_mwt</th>\n",
       "      <th>aromatic_rings</th>\n",
       "      <th>heavy_atoms</th>\n",
       "      <th>qed_weighted</th>\n",
       "      <th>mw_monoisotopic</th>\n",
       "      <th>full_molformula</th>\n",
       "      <th>hba_lipinski</th>\n",
       "      <th>hbd_lipinski</th>\n",
       "      <th>num_lipinski_ro5_violations</th>\n",
       "    </tr>\n",
       "  </thead>\n",
       "  <tbody>\n",
       "    <tr>\n",
       "      <th>0</th>\n",
       "      <td>1</td>\n",
       "      <td>341.75</td>\n",
       "      <td>2.11</td>\n",
       "      <td>5.0</td>\n",
       "      <td>1.0</td>\n",
       "      <td>84.82</td>\n",
       "      <td>3.0</td>\n",
       "      <td>N</td>\n",
       "      <td>0.0</td>\n",
       "      <td>6.48</td>\n",
       "      <td>...</td>\n",
       "      <td>ACID</td>\n",
       "      <td>341.75</td>\n",
       "      <td>3.0</td>\n",
       "      <td>24.0</td>\n",
       "      <td>0.74</td>\n",
       "      <td>341.0567</td>\n",
       "      <td>C17H12ClN3O3</td>\n",
       "      <td>6.0</td>\n",
       "      <td>1.0</td>\n",
       "      <td>0.0</td>\n",
       "    </tr>\n",
       "    <tr>\n",
       "      <th>1</th>\n",
       "      <td>2</td>\n",
       "      <td>332.32</td>\n",
       "      <td>1.33</td>\n",
       "      <td>6.0</td>\n",
       "      <td>1.0</td>\n",
       "      <td>108.61</td>\n",
       "      <td>3.0</td>\n",
       "      <td>N</td>\n",
       "      <td>0.0</td>\n",
       "      <td>6.33</td>\n",
       "      <td>...</td>\n",
       "      <td>ACID</td>\n",
       "      <td>332.32</td>\n",
       "      <td>3.0</td>\n",
       "      <td>25.0</td>\n",
       "      <td>0.73</td>\n",
       "      <td>332.0909</td>\n",
       "      <td>C18H12N4O3</td>\n",
       "      <td>7.0</td>\n",
       "      <td>1.0</td>\n",
       "      <td>0.0</td>\n",
       "    </tr>\n",
       "    <tr>\n",
       "      <th>2</th>\n",
       "      <td>3</td>\n",
       "      <td>357.80</td>\n",
       "      <td>2.27</td>\n",
       "      <td>5.0</td>\n",
       "      <td>2.0</td>\n",
       "      <td>87.98</td>\n",
       "      <td>3.0</td>\n",
       "      <td>N</td>\n",
       "      <td>0.0</td>\n",
       "      <td>6.33</td>\n",
       "      <td>...</td>\n",
       "      <td>ACID</td>\n",
       "      <td>357.80</td>\n",
       "      <td>3.0</td>\n",
       "      <td>25.0</td>\n",
       "      <td>0.75</td>\n",
       "      <td>357.0880</td>\n",
       "      <td>C18H16ClN3O3</td>\n",
       "      <td>6.0</td>\n",
       "      <td>2.0</td>\n",
       "      <td>0.0</td>\n",
       "    </tr>\n",
       "    <tr>\n",
       "      <th>3</th>\n",
       "      <td>4</td>\n",
       "      <td>307.31</td>\n",
       "      <td>1.46</td>\n",
       "      <td>5.0</td>\n",
       "      <td>1.0</td>\n",
       "      <td>84.82</td>\n",
       "      <td>3.0</td>\n",
       "      <td>N</td>\n",
       "      <td>0.0</td>\n",
       "      <td>6.33</td>\n",
       "      <td>...</td>\n",
       "      <td>ACID</td>\n",
       "      <td>307.31</td>\n",
       "      <td>3.0</td>\n",
       "      <td>23.0</td>\n",
       "      <td>0.74</td>\n",
       "      <td>307.0957</td>\n",
       "      <td>C17H13N3O3</td>\n",
       "      <td>6.0</td>\n",
       "      <td>1.0</td>\n",
       "      <td>0.0</td>\n",
       "    </tr>\n",
       "    <tr>\n",
       "      <th>4</th>\n",
       "      <td>5</td>\n",
       "      <td>341.75</td>\n",
       "      <td>2.11</td>\n",
       "      <td>5.0</td>\n",
       "      <td>1.0</td>\n",
       "      <td>84.82</td>\n",
       "      <td>3.0</td>\n",
       "      <td>N</td>\n",
       "      <td>0.0</td>\n",
       "      <td>6.33</td>\n",
       "      <td>...</td>\n",
       "      <td>ACID</td>\n",
       "      <td>341.75</td>\n",
       "      <td>3.0</td>\n",
       "      <td>24.0</td>\n",
       "      <td>0.74</td>\n",
       "      <td>341.0567</td>\n",
       "      <td>C17H12ClN3O3</td>\n",
       "      <td>6.0</td>\n",
       "      <td>1.0</td>\n",
       "      <td>0.0</td>\n",
       "    </tr>\n",
       "    <tr>\n",
       "      <th>...</th>\n",
       "      <td>...</td>\n",
       "      <td>...</td>\n",
       "      <td>...</td>\n",
       "      <td>...</td>\n",
       "      <td>...</td>\n",
       "      <td>...</td>\n",
       "      <td>...</td>\n",
       "      <td>...</td>\n",
       "      <td>...</td>\n",
       "      <td>...</td>\n",
       "      <td>...</td>\n",
       "      <td>...</td>\n",
       "      <td>...</td>\n",
       "      <td>...</td>\n",
       "      <td>...</td>\n",
       "      <td>...</td>\n",
       "      <td>...</td>\n",
       "      <td>...</td>\n",
       "      <td>...</td>\n",
       "      <td>...</td>\n",
       "      <td>...</td>\n",
       "    </tr>\n",
       "    <tr>\n",
       "      <th>99995</th>\n",
       "      <td>115871</td>\n",
       "      <td>354.54</td>\n",
       "      <td>5.28</td>\n",
       "      <td>4.0</td>\n",
       "      <td>0.0</td>\n",
       "      <td>16.13</td>\n",
       "      <td>6.0</td>\n",
       "      <td>N</td>\n",
       "      <td>1.0</td>\n",
       "      <td>NaN</td>\n",
       "      <td>...</td>\n",
       "      <td>NEUTRAL</td>\n",
       "      <td>444.58</td>\n",
       "      <td>3.0</td>\n",
       "      <td>24.0</td>\n",
       "      <td>0.56</td>\n",
       "      <td>354.1224</td>\n",
       "      <td>C22H24N2O4S2</td>\n",
       "      <td>2.0</td>\n",
       "      <td>0.0</td>\n",
       "      <td>1.0</td>\n",
       "    </tr>\n",
       "    <tr>\n",
       "      <th>99996</th>\n",
       "      <td>115872</td>\n",
       "      <td>389.50</td>\n",
       "      <td>4.50</td>\n",
       "      <td>4.0</td>\n",
       "      <td>1.0</td>\n",
       "      <td>54.46</td>\n",
       "      <td>8.0</td>\n",
       "      <td>N</td>\n",
       "      <td>0.0</td>\n",
       "      <td>NaN</td>\n",
       "      <td>...</td>\n",
       "      <td>BASE</td>\n",
       "      <td>389.50</td>\n",
       "      <td>3.0</td>\n",
       "      <td>29.0</td>\n",
       "      <td>0.62</td>\n",
       "      <td>389.2103</td>\n",
       "      <td>C24H27N3O2</td>\n",
       "      <td>5.0</td>\n",
       "      <td>1.0</td>\n",
       "      <td>0.0</td>\n",
       "    </tr>\n",
       "    <tr>\n",
       "      <th>99997</th>\n",
       "      <td>115873</td>\n",
       "      <td>330.29</td>\n",
       "      <td>2.59</td>\n",
       "      <td>7.0</td>\n",
       "      <td>3.0</td>\n",
       "      <td>109.36</td>\n",
       "      <td>3.0</td>\n",
       "      <td>N</td>\n",
       "      <td>0.0</td>\n",
       "      <td>7.87</td>\n",
       "      <td>...</td>\n",
       "      <td>NEUTRAL</td>\n",
       "      <td>330.29</td>\n",
       "      <td>3.0</td>\n",
       "      <td>24.0</td>\n",
       "      <td>0.63</td>\n",
       "      <td>330.0740</td>\n",
       "      <td>C17H14O7</td>\n",
       "      <td>7.0</td>\n",
       "      <td>3.0</td>\n",
       "      <td>0.0</td>\n",
       "    </tr>\n",
       "    <tr>\n",
       "      <th>99998</th>\n",
       "      <td>115874</td>\n",
       "      <td>1199.47</td>\n",
       "      <td>NaN</td>\n",
       "      <td>NaN</td>\n",
       "      <td>NaN</td>\n",
       "      <td>NaN</td>\n",
       "      <td>NaN</td>\n",
       "      <td>NaN</td>\n",
       "      <td>NaN</td>\n",
       "      <td>NaN</td>\n",
       "      <td>...</td>\n",
       "      <td>NaN</td>\n",
       "      <td>1199.47</td>\n",
       "      <td>NaN</td>\n",
       "      <td>NaN</td>\n",
       "      <td>NaN</td>\n",
       "      <td>1198.5416</td>\n",
       "      <td>C57H78N14O11S2</td>\n",
       "      <td>NaN</td>\n",
       "      <td>NaN</td>\n",
       "      <td>NaN</td>\n",
       "    </tr>\n",
       "    <tr>\n",
       "      <th>99999</th>\n",
       "      <td>115875</td>\n",
       "      <td>1199.47</td>\n",
       "      <td>NaN</td>\n",
       "      <td>NaN</td>\n",
       "      <td>NaN</td>\n",
       "      <td>NaN</td>\n",
       "      <td>NaN</td>\n",
       "      <td>NaN</td>\n",
       "      <td>NaN</td>\n",
       "      <td>NaN</td>\n",
       "      <td>...</td>\n",
       "      <td>NaN</td>\n",
       "      <td>1199.47</td>\n",
       "      <td>NaN</td>\n",
       "      <td>NaN</td>\n",
       "      <td>NaN</td>\n",
       "      <td>1198.5416</td>\n",
       "      <td>C57H78N14O11S2</td>\n",
       "      <td>NaN</td>\n",
       "      <td>NaN</td>\n",
       "      <td>NaN</td>\n",
       "    </tr>\n",
       "  </tbody>\n",
       "</table>\n",
       "<p>100000 rows × 23 columns</p>\n",
       "</div>"
      ],
      "text/plain": [
       "       molregno  mw_freebase  alogp  hba  hbd     psa  rtb ro3_pass  \\\n",
       "0             1       341.75   2.11  5.0  1.0   84.82  3.0        N   \n",
       "1             2       332.32   1.33  6.0  1.0  108.61  3.0        N   \n",
       "2             3       357.80   2.27  5.0  2.0   87.98  3.0        N   \n",
       "3             4       307.31   1.46  5.0  1.0   84.82  3.0        N   \n",
       "4             5       341.75   2.11  5.0  1.0   84.82  3.0        N   \n",
       "...         ...          ...    ...  ...  ...     ...  ...      ...   \n",
       "99995    115871       354.54   5.28  4.0  0.0   16.13  6.0        N   \n",
       "99996    115872       389.50   4.50  4.0  1.0   54.46  8.0        N   \n",
       "99997    115873       330.29   2.59  7.0  3.0  109.36  3.0        N   \n",
       "99998    115874      1199.47    NaN  NaN  NaN     NaN  NaN      NaN   \n",
       "99999    115875      1199.47    NaN  NaN  NaN     NaN  NaN      NaN   \n",
       "\n",
       "       num_ro5_violations  cx_most_apka  ...  molecular_species  full_mwt  \\\n",
       "0                     0.0          6.48  ...               ACID    341.75   \n",
       "1                     0.0          6.33  ...               ACID    332.32   \n",
       "2                     0.0          6.33  ...               ACID    357.80   \n",
       "3                     0.0          6.33  ...               ACID    307.31   \n",
       "4                     0.0          6.33  ...               ACID    341.75   \n",
       "...                   ...           ...  ...                ...       ...   \n",
       "99995                 1.0           NaN  ...            NEUTRAL    444.58   \n",
       "99996                 0.0           NaN  ...               BASE    389.50   \n",
       "99997                 0.0          7.87  ...            NEUTRAL    330.29   \n",
       "99998                 NaN           NaN  ...                NaN   1199.47   \n",
       "99999                 NaN           NaN  ...                NaN   1199.47   \n",
       "\n",
       "       aromatic_rings heavy_atoms  qed_weighted  mw_monoisotopic  \\\n",
       "0                 3.0        24.0          0.74         341.0567   \n",
       "1                 3.0        25.0          0.73         332.0909   \n",
       "2                 3.0        25.0          0.75         357.0880   \n",
       "3                 3.0        23.0          0.74         307.0957   \n",
       "4                 3.0        24.0          0.74         341.0567   \n",
       "...               ...         ...           ...              ...   \n",
       "99995             3.0        24.0          0.56         354.1224   \n",
       "99996             3.0        29.0          0.62         389.2103   \n",
       "99997             3.0        24.0          0.63         330.0740   \n",
       "99998             NaN         NaN           NaN        1198.5416   \n",
       "99999             NaN         NaN           NaN        1198.5416   \n",
       "\n",
       "       full_molformula  hba_lipinski  hbd_lipinski num_lipinski_ro5_violations  \n",
       "0         C17H12ClN3O3           6.0           1.0                         0.0  \n",
       "1           C18H12N4O3           7.0           1.0                         0.0  \n",
       "2         C18H16ClN3O3           6.0           2.0                         0.0  \n",
       "3           C17H13N3O3           6.0           1.0                         0.0  \n",
       "4         C17H12ClN3O3           6.0           1.0                         0.0  \n",
       "...                ...           ...           ...                         ...  \n",
       "99995     C22H24N2O4S2           2.0           0.0                         1.0  \n",
       "99996       C24H27N3O2           5.0           1.0                         0.0  \n",
       "99997         C17H14O7           7.0           3.0                         0.0  \n",
       "99998   C57H78N14O11S2           NaN           NaN                         NaN  \n",
       "99999   C57H78N14O11S2           NaN           NaN                         NaN  \n",
       "\n",
       "[100000 rows x 23 columns]"
      ]
     },
     "execution_count": 51,
     "metadata": {},
     "output_type": "execute_result"
    }
   ],
   "source": [
    "data = pd.read_csv(\"COMPOUND_PROPERTIES.csv\")\n",
    "data"
   ]
  },
  {
   "cell_type": "markdown",
   "metadata": {},
   "source": [
    "### Extracting a series\n",
    "\n",
    "To extract a single column from the DataFrame, use `[]` :"
   ]
  },
  {
   "cell_type": "code",
   "execution_count": 56,
   "metadata": {},
   "outputs": [
    {
     "name": "stdout",
     "output_type": "stream",
     "text": [
      "0        5.0\n",
      "1        6.0\n",
      "2        5.0\n",
      "3        5.0\n",
      "4        5.0\n",
      "        ... \n",
      "99995    4.0\n",
      "99996    4.0\n",
      "99997    7.0\n",
      "99998    NaN\n",
      "99999    NaN\n",
      "Name: hba, Length: 100000, dtype: float64\n"
     ]
    }
   ],
   "source": [
    "hba = data[ \"hba\" ]\n",
    "print(hba)"
   ]
  },
  {
   "cell_type": "markdown",
   "metadata": {},
   "source": [
    "You can use this data series in `matplotlib` directly:"
   ]
  },
  {
   "cell_type": "code",
   "execution_count": 57,
   "metadata": {},
   "outputs": [
    {
     "data": {
      "image/png": "[encoded data removed]",
      "text/plain": [
       "<Figure size 432x288 with 1 Axes>"
      ]
     },
     "metadata": {
      "needs_background": "light"
     },
     "output_type": "display_data"
    }
   ],
   "source": [
    "plt.hist(hba, bins=20) \n",
    "plt.show()"
   ]
  },
  {
   "cell_type": "markdown",
   "metadata": {},
   "source": [
    "### Filtering by value\n",
    "\n",
    "To filter a DataFrame by one of the column values, use `query()` :\n"
   ]
  },
  {
   "cell_type": "code",
   "execution_count": 58,
   "metadata": {},
   "outputs": [
    {
     "data": {
      "text/html": [
       "<div>\n",
       "<style scoped>\n",
       "    .dataframe tbody tr th:only-of-type {\n",
       "        vertical-align: middle;\n",
       "    }\n",
       "\n",
       "    .dataframe tbody tr th {\n",
       "        vertical-align: top;\n",
       "    }\n",
       "\n",
       "    .dataframe thead th {\n",
       "        text-align: right;\n",
       "    }\n",
       "</style>\n",
       "<table border=\"1\" class=\"dataframe\">\n",
       "  <thead>\n",
       "    <tr style=\"text-align: right;\">\n",
       "      <th></th>\n",
       "      <th>molregno</th>\n",
       "      <th>mw_freebase</th>\n",
       "      <th>alogp</th>\n",
       "      <th>hba</th>\n",
       "      <th>hbd</th>\n",
       "      <th>psa</th>\n",
       "      <th>rtb</th>\n",
       "      <th>ro3_pass</th>\n",
       "      <th>num_ro5_violations</th>\n",
       "      <th>cx_most_apka</th>\n",
       "      <th>...</th>\n",
       "      <th>molecular_species</th>\n",
       "      <th>full_mwt</th>\n",
       "      <th>aromatic_rings</th>\n",
       "      <th>heavy_atoms</th>\n",
       "      <th>qed_weighted</th>\n",
       "      <th>mw_monoisotopic</th>\n",
       "      <th>full_molformula</th>\n",
       "      <th>hba_lipinski</th>\n",
       "      <th>hbd_lipinski</th>\n",
       "      <th>num_lipinski_ro5_violations</th>\n",
       "    </tr>\n",
       "  </thead>\n",
       "  <tbody>\n",
       "    <tr>\n",
       "      <th>0</th>\n",
       "      <td>1</td>\n",
       "      <td>341.75</td>\n",
       "      <td>2.11</td>\n",
       "      <td>5.0</td>\n",
       "      <td>1.0</td>\n",
       "      <td>84.82</td>\n",
       "      <td>3.0</td>\n",
       "      <td>N</td>\n",
       "      <td>0.0</td>\n",
       "      <td>6.48</td>\n",
       "      <td>...</td>\n",
       "      <td>ACID</td>\n",
       "      <td>341.75</td>\n",
       "      <td>3.0</td>\n",
       "      <td>24.0</td>\n",
       "      <td>0.74</td>\n",
       "      <td>341.0567</td>\n",
       "      <td>C17H12ClN3O3</td>\n",
       "      <td>6.0</td>\n",
       "      <td>1.0</td>\n",
       "      <td>0.0</td>\n",
       "    </tr>\n",
       "    <tr>\n",
       "      <th>1</th>\n",
       "      <td>2</td>\n",
       "      <td>332.32</td>\n",
       "      <td>1.33</td>\n",
       "      <td>6.0</td>\n",
       "      <td>1.0</td>\n",
       "      <td>108.61</td>\n",
       "      <td>3.0</td>\n",
       "      <td>N</td>\n",
       "      <td>0.0</td>\n",
       "      <td>6.33</td>\n",
       "      <td>...</td>\n",
       "      <td>ACID</td>\n",
       "      <td>332.32</td>\n",
       "      <td>3.0</td>\n",
       "      <td>25.0</td>\n",
       "      <td>0.73</td>\n",
       "      <td>332.0909</td>\n",
       "      <td>C18H12N4O3</td>\n",
       "      <td>7.0</td>\n",
       "      <td>1.0</td>\n",
       "      <td>0.0</td>\n",
       "    </tr>\n",
       "    <tr>\n",
       "      <th>2</th>\n",
       "      <td>3</td>\n",
       "      <td>357.80</td>\n",
       "      <td>2.27</td>\n",
       "      <td>5.0</td>\n",
       "      <td>2.0</td>\n",
       "      <td>87.98</td>\n",
       "      <td>3.0</td>\n",
       "      <td>N</td>\n",
       "      <td>0.0</td>\n",
       "      <td>6.33</td>\n",
       "      <td>...</td>\n",
       "      <td>ACID</td>\n",
       "      <td>357.80</td>\n",
       "      <td>3.0</td>\n",
       "      <td>25.0</td>\n",
       "      <td>0.75</td>\n",
       "      <td>357.0880</td>\n",
       "      <td>C18H16ClN3O3</td>\n",
       "      <td>6.0</td>\n",
       "      <td>2.0</td>\n",
       "      <td>0.0</td>\n",
       "    </tr>\n",
       "    <tr>\n",
       "      <th>3</th>\n",
       "      <td>4</td>\n",
       "      <td>307.31</td>\n",
       "      <td>1.46</td>\n",
       "      <td>5.0</td>\n",
       "      <td>1.0</td>\n",
       "      <td>84.82</td>\n",
       "      <td>3.0</td>\n",
       "      <td>N</td>\n",
       "      <td>0.0</td>\n",
       "      <td>6.33</td>\n",
       "      <td>...</td>\n",
       "      <td>ACID</td>\n",
       "      <td>307.31</td>\n",
       "      <td>3.0</td>\n",
       "      <td>23.0</td>\n",
       "      <td>0.74</td>\n",
       "      <td>307.0957</td>\n",
       "      <td>C17H13N3O3</td>\n",
       "      <td>6.0</td>\n",
       "      <td>1.0</td>\n",
       "      <td>0.0</td>\n",
       "    </tr>\n",
       "    <tr>\n",
       "      <th>4</th>\n",
       "      <td>5</td>\n",
       "      <td>341.75</td>\n",
       "      <td>2.11</td>\n",
       "      <td>5.0</td>\n",
       "      <td>1.0</td>\n",
       "      <td>84.82</td>\n",
       "      <td>3.0</td>\n",
       "      <td>N</td>\n",
       "      <td>0.0</td>\n",
       "      <td>6.33</td>\n",
       "      <td>...</td>\n",
       "      <td>ACID</td>\n",
       "      <td>341.75</td>\n",
       "      <td>3.0</td>\n",
       "      <td>24.0</td>\n",
       "      <td>0.74</td>\n",
       "      <td>341.0567</td>\n",
       "      <td>C17H12ClN3O3</td>\n",
       "      <td>6.0</td>\n",
       "      <td>1.0</td>\n",
       "      <td>0.0</td>\n",
       "    </tr>\n",
       "    <tr>\n",
       "      <th>...</th>\n",
       "      <td>...</td>\n",
       "      <td>...</td>\n",
       "      <td>...</td>\n",
       "      <td>...</td>\n",
       "      <td>...</td>\n",
       "      <td>...</td>\n",
       "      <td>...</td>\n",
       "      <td>...</td>\n",
       "      <td>...</td>\n",
       "      <td>...</td>\n",
       "      <td>...</td>\n",
       "      <td>...</td>\n",
       "      <td>...</td>\n",
       "      <td>...</td>\n",
       "      <td>...</td>\n",
       "      <td>...</td>\n",
       "      <td>...</td>\n",
       "      <td>...</td>\n",
       "      <td>...</td>\n",
       "      <td>...</td>\n",
       "      <td>...</td>\n",
       "    </tr>\n",
       "    <tr>\n",
       "      <th>99970</th>\n",
       "      <td>115841</td>\n",
       "      <td>301.44</td>\n",
       "      <td>4.02</td>\n",
       "      <td>4.0</td>\n",
       "      <td>1.0</td>\n",
       "      <td>37.61</td>\n",
       "      <td>4.0</td>\n",
       "      <td>N</td>\n",
       "      <td>0.0</td>\n",
       "      <td>6.08</td>\n",
       "      <td>...</td>\n",
       "      <td>ACID</td>\n",
       "      <td>301.44</td>\n",
       "      <td>2.0</td>\n",
       "      <td>20.0</td>\n",
       "      <td>0.40</td>\n",
       "      <td>301.0707</td>\n",
       "      <td>C15H15N3S2</td>\n",
       "      <td>3.0</td>\n",
       "      <td>0.0</td>\n",
       "      <td>0.0</td>\n",
       "    </tr>\n",
       "    <tr>\n",
       "      <th>99986</th>\n",
       "      <td>115862</td>\n",
       "      <td>466.58</td>\n",
       "      <td>6.28</td>\n",
       "      <td>7.0</td>\n",
       "      <td>1.0</td>\n",
       "      <td>94.15</td>\n",
       "      <td>10.0</td>\n",
       "      <td>N</td>\n",
       "      <td>1.0</td>\n",
       "      <td>5.72</td>\n",
       "      <td>...</td>\n",
       "      <td>ACID</td>\n",
       "      <td>466.58</td>\n",
       "      <td>2.0</td>\n",
       "      <td>34.0</td>\n",
       "      <td>0.25</td>\n",
       "      <td>466.2468</td>\n",
       "      <td>C27H34N2O5</td>\n",
       "      <td>7.0</td>\n",
       "      <td>1.0</td>\n",
       "      <td>1.0</td>\n",
       "    </tr>\n",
       "    <tr>\n",
       "      <th>99988</th>\n",
       "      <td>115864</td>\n",
       "      <td>362.43</td>\n",
       "      <td>3.75</td>\n",
       "      <td>7.0</td>\n",
       "      <td>1.0</td>\n",
       "      <td>94.15</td>\n",
       "      <td>6.0</td>\n",
       "      <td>N</td>\n",
       "      <td>0.0</td>\n",
       "      <td>5.52</td>\n",
       "      <td>...</td>\n",
       "      <td>ACID</td>\n",
       "      <td>362.43</td>\n",
       "      <td>1.0</td>\n",
       "      <td>26.0</td>\n",
       "      <td>0.61</td>\n",
       "      <td>362.1842</td>\n",
       "      <td>C19H26N2O5</td>\n",
       "      <td>7.0</td>\n",
       "      <td>1.0</td>\n",
       "      <td>0.0</td>\n",
       "    </tr>\n",
       "    <tr>\n",
       "      <th>99989</th>\n",
       "      <td>115865</td>\n",
       "      <td>710.77</td>\n",
       "      <td>1.83</td>\n",
       "      <td>7.0</td>\n",
       "      <td>7.0</td>\n",
       "      <td>221.95</td>\n",
       "      <td>16.0</td>\n",
       "      <td>N</td>\n",
       "      <td>2.0</td>\n",
       "      <td>1.73</td>\n",
       "      <td>...</td>\n",
       "      <td>ACID</td>\n",
       "      <td>710.77</td>\n",
       "      <td>3.0</td>\n",
       "      <td>50.0</td>\n",
       "      <td>0.09</td>\n",
       "      <td>710.3193</td>\n",
       "      <td>C35H47N6O8P</td>\n",
       "      <td>14.0</td>\n",
       "      <td>8.0</td>\n",
       "      <td>3.0</td>\n",
       "    </tr>\n",
       "    <tr>\n",
       "      <th>99990</th>\n",
       "      <td>115866</td>\n",
       "      <td>525.98</td>\n",
       "      <td>6.94</td>\n",
       "      <td>6.0</td>\n",
       "      <td>1.0</td>\n",
       "      <td>68.12</td>\n",
       "      <td>7.0</td>\n",
       "      <td>N</td>\n",
       "      <td>2.0</td>\n",
       "      <td>4.96</td>\n",
       "      <td>...</td>\n",
       "      <td>ACID</td>\n",
       "      <td>525.98</td>\n",
       "      <td>2.0</td>\n",
       "      <td>35.0</td>\n",
       "      <td>0.24</td>\n",
       "      <td>525.0988</td>\n",
       "      <td>C25H23ClF3NO4S</td>\n",
       "      <td>5.0</td>\n",
       "      <td>1.0</td>\n",
       "      <td>2.0</td>\n",
       "    </tr>\n",
       "  </tbody>\n",
       "</table>\n",
       "<p>20268 rows × 23 columns</p>\n",
       "</div>"
      ],
      "text/plain": [
       "       molregno  mw_freebase  alogp  hba  hbd     psa   rtb ro3_pass  \\\n",
       "0             1       341.75   2.11  5.0  1.0   84.82   3.0        N   \n",
       "1             2       332.32   1.33  6.0  1.0  108.61   3.0        N   \n",
       "2             3       357.80   2.27  5.0  2.0   87.98   3.0        N   \n",
       "3             4       307.31   1.46  5.0  1.0   84.82   3.0        N   \n",
       "4             5       341.75   2.11  5.0  1.0   84.82   3.0        N   \n",
       "...         ...          ...    ...  ...  ...     ...   ...      ...   \n",
       "99970    115841       301.44   4.02  4.0  1.0   37.61   4.0        N   \n",
       "99986    115862       466.58   6.28  7.0  1.0   94.15  10.0        N   \n",
       "99988    115864       362.43   3.75  7.0  1.0   94.15   6.0        N   \n",
       "99989    115865       710.77   1.83  7.0  7.0  221.95  16.0        N   \n",
       "99990    115866       525.98   6.94  6.0  1.0   68.12   7.0        N   \n",
       "\n",
       "       num_ro5_violations  cx_most_apka  ...  molecular_species  full_mwt  \\\n",
       "0                     0.0          6.48  ...               ACID    341.75   \n",
       "1                     0.0          6.33  ...               ACID    332.32   \n",
       "2                     0.0          6.33  ...               ACID    357.80   \n",
       "3                     0.0          6.33  ...               ACID    307.31   \n",
       "4                     0.0          6.33  ...               ACID    341.75   \n",
       "...                   ...           ...  ...                ...       ...   \n",
       "99970                 0.0          6.08  ...               ACID    301.44   \n",
       "99986                 1.0          5.72  ...               ACID    466.58   \n",
       "99988                 0.0          5.52  ...               ACID    362.43   \n",
       "99989                 2.0          1.73  ...               ACID    710.77   \n",
       "99990                 2.0          4.96  ...               ACID    525.98   \n",
       "\n",
       "       aromatic_rings heavy_atoms  qed_weighted  mw_monoisotopic  \\\n",
       "0                 3.0        24.0          0.74         341.0567   \n",
       "1                 3.0        25.0          0.73         332.0909   \n",
       "2                 3.0        25.0          0.75         357.0880   \n",
       "3                 3.0        23.0          0.74         307.0957   \n",
       "4                 3.0        24.0          0.74         341.0567   \n",
       "...               ...         ...           ...              ...   \n",
       "99970             2.0        20.0          0.40         301.0707   \n",
       "99986             2.0        34.0          0.25         466.2468   \n",
       "99988             1.0        26.0          0.61         362.1842   \n",
       "99989             3.0        50.0          0.09         710.3193   \n",
       "99990             2.0        35.0          0.24         525.0988   \n",
       "\n",
       "       full_molformula  hba_lipinski  hbd_lipinski num_lipinski_ro5_violations  \n",
       "0         C17H12ClN3O3           6.0           1.0                         0.0  \n",
       "1           C18H12N4O3           7.0           1.0                         0.0  \n",
       "2         C18H16ClN3O3           6.0           2.0                         0.0  \n",
       "3           C17H13N3O3           6.0           1.0                         0.0  \n",
       "4         C17H12ClN3O3           6.0           1.0                         0.0  \n",
       "...                ...           ...           ...                         ...  \n",
       "99970       C15H15N3S2           3.0           0.0                         0.0  \n",
       "99986       C27H34N2O5           7.0           1.0                         1.0  \n",
       "99988       C19H26N2O5           7.0           1.0                         0.0  \n",
       "99989      C35H47N6O8P          14.0           8.0                         3.0  \n",
       "99990   C25H23ClF3NO4S           5.0           1.0                         2.0  \n",
       "\n",
       "[20268 rows x 23 columns]"
      ]
     },
     "execution_count": 58,
     "metadata": {},
     "output_type": "execute_result"
    }
   ],
   "source": [
    "data.query( 'molecular_species == \"ACID\"' )"
   ]
  },
  {
   "cell_type": "markdown",
   "metadata": {},
   "source": [
    "### Exercise 2\n",
    "\n",
    "Make plots of the following:\n",
    "\n",
    "- A histogram of `alogp` for the acids.\n",
    "- etc."
   ]
  },
  {
   "cell_type": "code",
   "execution_count": 62,
   "metadata": {},
   "outputs": [
    {
     "data": {
      "image/png": "[encoded data removed]",
      "text/plain": [
       "<Figure size 432x288 with 1 Axes>"
      ]
     },
     "metadata": {
      "needs_background": "light"
     },
     "output_type": "display_data"
    }
   ],
   "source": [
    "acid = data.query( 'molecular_species == \"ACID\"' )\n",
    "plt.hist(acid[\"alogp\"], 100)\n",
    "plt.show()"
   ]
  },
  {
   "cell_type": "markdown",
   "metadata": {},
   "source": [
    "---"
   ]
  },
  {
   "cell_type": "markdown",
   "metadata": {},
   "source": [
    "# Extra material"
   ]
  },
  {
   "cell_type": "markdown",
   "metadata": {},
   "source": [
    "## Decorating figures\n",
    "We can customise our figures to add error bars or show confidence intervals"
   ]
  },
  {
   "cell_type": "code",
   "execution_count": 46,
   "metadata": {},
   "outputs": [
    {
     "data": {
      "image/png": "[encoded data removed]",
      "text/plain": [
       "<Figure size 432x288 with 1 Axes>"
      ]
     },
     "metadata": {
      "needs_background": "light"
     },
     "output_type": "display_data"
    }
   ],
   "source": [
    "error = sine_y * 0.2 # let's assume the error is proportional to the y value\n",
    "plt.errorbar(x, sine_y, yerr=error) # we use errorbar to plot a lineplot with error bars\n",
    "                               # yerr and xerr are the keyword arguments for inputing error bar values\n",
    "plt.show()"
   ]
  },
  {
   "cell_type": "markdown",
   "metadata": {},
   "source": [
    "Error bars can be added to bar plots in the similar fashion."
   ]
  },
  {
   "cell_type": "code",
   "execution_count": 47,
   "metadata": {},
   "outputs": [
    {
     "data": {
      "image/png": "[encoded data removed]",
      "text/plain": [
       "<Figure size 432x288 with 1 Axes>"
      ]
     },
     "metadata": {
      "needs_background": "light"
     },
     "output_type": "display_data"
    }
   ],
   "source": [
    "bar_x = np.array(range(1, 11))\n",
    "bar_y = np.array((range(10, 0, -1)))\n",
    "plt.bar(bar_x, bar_y, yerr=0.1 * bar_y, xerr=0.1 * bar_x)\n",
    "plt.show()"
   ]
  },
  {
   "cell_type": "markdown",
   "metadata": {},
   "source": [
    "### Confidence interval"
   ]
  },
  {
   "cell_type": "code",
   "execution_count": 48,
   "metadata": {},
   "outputs": [
    {
     "data": {
      "image/png": "[encoded data removed]",
      "text/plain": [
       "<Figure size 432x288 with 1 Axes>"
      ]
     },
     "metadata": {
      "needs_background": "light"
     },
     "output_type": "display_data"
    }
   ],
   "source": [
    "ci = sine_y * 0.2 # Let's assume our confidence interval is proportional to the y value as well\n",
    "plt.plot(x, sine_y)\n",
    "plt.fill_between(x, (sine_y-ci), (sine_y+ci), color='b', alpha=0.1) # use fill_between to color a region on the graph\n",
    "# plt.fill_between(x, sine_y, 0, color='b', alpha=0.1)\n",
    "plt.show()"
   ]
  },
  {
   "cell_type": "markdown",
   "metadata": {},
   "source": [
    "### Further reading\n",
    "\n",
    "Be sure to check out [matplotlib's gallery](https://matplotlib.org/3.1.1/gallery/index.html) to glance over all the pretty figures you can make, together with the code that makes them.\n"
   ]
  },
  {
   "cell_type": "code",
   "execution_count": null,
   "metadata": {},
   "outputs": [],
   "source": []
  }
 ],
 "metadata": {
  "kernelspec": {
   "display_name": "Python 3",
   "language": "python",
   "name": "python3"
  },
  "language_info": {
   "codemirror_mode": {
    "name": "ipython",
    "version": 3
   },
   "file_extension": ".py",
   "mimetype": "text/x-python",
   "name": "python",
   "nbconvert_exporter": "python",
   "pygments_lexer": "ipython3",
   "version": "3.8.2"
  }
 },
 "nbformat": 4,
 "nbformat_minor": 4
}
